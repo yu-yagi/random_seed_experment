{
  "cells": [
    {
      "cell_type": "markdown",
      "metadata": {},
      "source": [
        "- [Open with Colab](https://colab.research.google.com/github/yu-yagi/random_seed_experment/blob/master/random_seed_experiment.ipynb)"
      ]
    },
    {
      "cell_type": "markdown",
      "metadata": {
        "id": "hbufZprs5_7w"
      },
      "source": [
        "# 環境準備"
      ]
    },
    {
      "cell_type": "code",
      "execution_count": 1,
      "metadata": {
        "colab": {
          "base_uri": "https://localhost:8080/"
        },
        "id": "J5APB8Qf1_Mh",
        "outputId": "c1c46540-2f2a-41bf-8c5d-e57879e8a6bf"
      },
      "outputs": [
        {
          "name": "stdout",
          "output_type": "stream",
          "text": [
            "Requirement already satisfied: japanize-matplotlib in /usr/local/lib/python3.11/dist-packages (1.1.3)\n",
            "Requirement already satisfied: matplotlib in /usr/local/lib/python3.11/dist-packages (from japanize-matplotlib) (3.10.0)\n",
            "Requirement already satisfied: contourpy>=1.0.1 in /usr/local/lib/python3.11/dist-packages (from matplotlib->japanize-matplotlib) (1.3.2)\n",
            "Requirement already satisfied: cycler>=0.10 in /usr/local/lib/python3.11/dist-packages (from matplotlib->japanize-matplotlib) (0.12.1)\n",
            "Requirement already satisfied: fonttools>=4.22.0 in /usr/local/lib/python3.11/dist-packages (from matplotlib->japanize-matplotlib) (4.58.0)\n",
            "Requirement already satisfied: kiwisolver>=1.3.1 in /usr/local/lib/python3.11/dist-packages (from matplotlib->japanize-matplotlib) (1.4.8)\n",
            "Requirement already satisfied: numpy>=1.23 in /usr/local/lib/python3.11/dist-packages (from matplotlib->japanize-matplotlib) (2.0.2)\n",
            "Requirement already satisfied: packaging>=20.0 in /usr/local/lib/python3.11/dist-packages (from matplotlib->japanize-matplotlib) (24.2)\n",
            "Requirement already satisfied: pillow>=8 in /usr/local/lib/python3.11/dist-packages (from matplotlib->japanize-matplotlib) (11.2.1)\n",
            "Requirement already satisfied: pyparsing>=2.3.1 in /usr/local/lib/python3.11/dist-packages (from matplotlib->japanize-matplotlib) (3.2.3)\n",
            "Requirement already satisfied: python-dateutil>=2.7 in /usr/local/lib/python3.11/dist-packages (from matplotlib->japanize-matplotlib) (2.9.0.post0)\n",
            "Requirement already satisfied: six>=1.5 in /usr/local/lib/python3.11/dist-packages (from python-dateutil>=2.7->matplotlib->japanize-matplotlib) (1.17.0)\n"
          ]
        }
      ],
      "source": [
        "!pip install japanize-matplotlib"
      ]
    },
    {
      "cell_type": "code",
      "execution_count": 2,
      "metadata": {
        "colab": {
          "base_uri": "https://localhost:8080/"
        },
        "id": "88ylF4qThtgK",
        "outputId": "c2e94fed-8151-4c44-e876-5940163b18ce"
      },
      "outputs": [
        {
          "name": "stderr",
          "output_type": "stream",
          "text": [
            "/usr/local/lib/python3.11/dist-packages/albumentations/__init__.py:28: UserWarning: A new version of Albumentations is available: '2.0.7' (you have '2.0.6'). Upgrade using: pip install -U albumentations. To disable automatic update checks, set the environment variable NO_ALBUMENTATIONS_UPDATE to 1.\n",
            "  check_for_updates()\n"
          ]
        }
      ],
      "source": [
        "import os\n",
        "import random\n",
        "import numpy as np\n",
        "import torch\n",
        "import matplotlib.pyplot as plt\n",
        "import japanize_matplotlib\n",
        "import albumentations as A\n",
        "import torchvision\n",
        "from torchvision.transforms.functional import to_tensor\n",
        "from torch.utils.data import Dataset, DataLoader, get_worker_info\n",
        "import torchvision.transforms as transforms\n",
        "\n",
        "SEED = 42\n",
        "def seed_everything(seed=42):\n",
        "    random.seed(seed)\n",
        "    os.environ['PYTHONHASHSEED'] = str(seed)\n",
        "    np.random.seed(seed)\n",
        "    torch.manual_seed(seed)\n",
        "    torch.cuda.manual_seed(seed)\n",
        "    torch.backends.cudnn.deterministic = True\n",
        "\n",
        "seed_everything(SEED)"
      ]
    },
    {
      "cell_type": "markdown",
      "metadata": {
        "id": "TwM4_zj44cxp"
      },
      "source": [
        "# 検証①\n",
        "乱数の内部状態の読み込み、書き込み\n",
        "get_stateで乱数生成器の内部状態を取り出し、set_stateで書き込みしているので、何度実行しても、下のセルで生成される乱数は変わらない"
      ]
    },
    {
      "cell_type": "code",
      "execution_count": 3,
      "metadata": {
        "colab": {
          "base_uri": "https://localhost:8080/"
        },
        "id": "4JYly_BO4YkL",
        "outputId": "87f29ed2-8a66-4a6a-f6bf-299be310a962"
      },
      "outputs": [
        {
          "name": "stdout",
          "output_type": "stream",
          "text": [
            "peek random.random() = 0.6394267984578837\n",
            "peek np.random.randint = 1608637542\n",
            "peek torch CPU rng = 6909045637428952499\n"
          ]
        }
      ],
      "source": [
        "\n",
        "\n",
        "# 1) Python random\n",
        "state_py = random.getstate()\n",
        "peek_py = random.random()  # 適当な乱数\n",
        "random.setstate(state_py)\n",
        "print(\"peek random.random() =\", peek_py)\n",
        "\n",
        "# 2) NumPy\n",
        "state_np = np.random.get_state()\n",
        "peek_np = np.random.randint(0, 2**31 - 1, dtype=np.int64)  # 適当な乱数\n",
        "np.random.set_state(state_np)\n",
        "print(\"peek np.random.randint =\", peek_np)\n",
        "\n",
        "# 3) PyTorch CPU\n",
        "state_cpu = torch.get_rng_state()\n",
        "peek_cpu = torch.empty((), dtype=torch.int64).random_().item()  # 適当な乱数\n",
        "torch.set_rng_state(state_cpu)\n",
        "print(\"peek torch CPU rng =\", peek_cpu)"
      ]
    },
    {
      "cell_type": "markdown",
      "metadata": {
        "id": "NXSY87qQyG-y"
      },
      "source": [
        "# 検証②\n",
        "Pytorchデータローダーのnum_worker>0の時、workerプロセスのseedが、メインプロセスで生成した乱数（上のセルの値）+worker_numであることを確かめる"
      ]
    },
    {
      "cell_type": "code",
      "execution_count": 4,
      "metadata": {
        "id": "UFg9fw85hM_E"
      },
      "outputs": [],
      "source": [
        "class MyDataset(Dataset):\n",
        "    def __init__(self):\n",
        "        self.data = torch.arange(4).float().view(4, 1, 1, 1).repeat(1, 3, 224, 224)\n",
        "\n",
        "    def __getitem__(self, index):\n",
        "        x = self.data[index]\n",
        "        worker_info = get_worker_info()\n",
        "        if worker_info is None:\n",
        "            # メインプロセスから呼ばれたとき\n",
        "            worker_id = None\n",
        "            seed = None\n",
        "        else:\n",
        "            worker_id = worker_info.id\n",
        "            seed = worker_info.seed\n",
        "\n",
        "        # 1) Python random\n",
        "        peek_py = random.random()  # 適当な乱数\n",
        "\n",
        "        # 2) NumPy\n",
        "        peek_np = np.random.randint(0, 2**31 - 1, dtype=np.int64)  # 適当な乱数\n",
        "\n",
        "        # 3) PyTorch CPU\n",
        "        peek_cpu = torch.empty((), dtype=torch.int64).random_().item() # 適当な乱数\n",
        "        return worker_id, seed, peek_py, peek_np, peek_cpu\n",
        "\n",
        "    def __len__(self):\n",
        "        return len(self.data)"
      ]
    },
    {
      "cell_type": "code",
      "execution_count": 5,
      "metadata": {
        "id": "-0uxjrw6y3uE"
      },
      "outputs": [],
      "source": [
        "#シード固定\n",
        "seed_everything(SEED)"
      ]
    },
    {
      "cell_type": "markdown",
      "metadata": {
        "id": "8nA6bEP2xWJ6"
      },
      "source": [
        "### シード固定後、乱数生成（一回目）"
      ]
    },
    {
      "cell_type": "code",
      "execution_count": 6,
      "metadata": {
        "colab": {
          "base_uri": "https://localhost:8080/"
        },
        "id": "XJZpNoMyxHLn",
        "outputId": "b091d6c6-c5f0-4a3c-91cb-6f0552ed6309"
      },
      "outputs": [
        {
          "name": "stdout",
          "output_type": "stream",
          "text": [
            "peek torch CPU rng = 6909045637428952499\n"
          ]
        }
      ],
      "source": [
        "state_cpu = torch.get_rng_state() # 乱数生成器の内部状態を読み込む\n",
        "peek_cpu = torch.empty((), dtype=torch.int64).random_().item()\n",
        "torch.set_rng_state(state_cpu) # 乱数生成器の内部状態を書き込む（初期値に戻る）\n",
        "print(\"peek torch CPU rng =\", peek_cpu)"
      ]
    },
    {
      "cell_type": "markdown",
      "metadata": {
        "id": "cO409gHqy74U"
      },
      "source": [
        "### 各Worker（サブプロセスのシード値、生成した乱数の値を確かめる）\n",
        "ワーカーのシードの値は、base_seed(上のセルのRNGの値)+worker_numになる"
      ]
    },
    {
      "cell_type": "code",
      "execution_count": 7,
      "metadata": {
        "colab": {
          "base_uri": "https://localhost:8080/"
        },
        "id": "tmX_IDUnyw9C",
        "outputId": "db4e8438-73b1-41fb-c8a9-04b7c581cdde"
      },
      "outputs": [
        {
          "name": "stdout",
          "output_type": "stream",
          "text": [
            "epoch 0\n",
            "Worker_ID:0, Seed:6909045637428952499, Python peek:0.76579821087278, Numpy peek:959832575, Pytorch peek:1170639138655272132\n",
            "Worker_ID:0, Seed:6909045637428952499, Python peek:0.5290557382213695, Numpy peek:882448501, Pytorch peek:3236260051783816896\n",
            "Worker_ID:1, Seed:6909045637428952500, Python peek:0.622363687543226, Numpy peek:1662264820, Pytorch peek:2388289256833682258\n",
            "Worker_ID:1, Seed:6909045637428952500, Python peek:0.1621540338542381, Numpy peek:1141922919, Pytorch peek:5646074976271009539\n",
            "epoch 1\n",
            "Worker_ID:0, Seed:8314211556539077902, Python peek:0.497469773115513, Numpy peek:1524043329, Pytorch peek:8205711491232393797\n",
            "Worker_ID:0, Seed:8314211556539077902, Python peek:0.33839484957051635, Numpy peek:389623752, Pytorch peek:7724067224563570751\n",
            "Worker_ID:1, Seed:8314211556539077903, Python peek:0.7249762437124196, Numpy peek:595172096, Pytorch peek:3884317797759040003\n",
            "Worker_ID:1, Seed:8314211556539077903, Python peek:0.8192775489191939, Numpy peek:932636739, Pytorch peek:8594123293728071240\n"
          ]
        }
      ],
      "source": [
        "dataset = MyDataset()\n",
        "\n",
        "loader = DataLoader(\n",
        "    dataset,\n",
        "    batch_size=2,\n",
        "    num_workers=2,\n",
        ")\n",
        "\n",
        "for epoch in range(2):\n",
        "    print(f'epoch {epoch}')\n",
        "    for worker_id, seed, py_peek, np_peek, torch_peek in loader:\n",
        "\n",
        "        print(f\"Worker_ID:{worker_id[0]}, Seed:{seed[0]}, Python peek:{py_peek[0]}, Numpy peek:{np_peek[0]}, Pytorch peek:{torch_peek[0]}\")\n",
        "        print(f\"Worker_ID:{worker_id[1]}, Seed:{seed[1]}, Python peek:{py_peek[1]}, Numpy peek:{np_peek[1]}, Pytorch peek:{torch_peek[1]}\")"
      ]
    },
    {
      "cell_type": "markdown",
      "metadata": {
        "id": "U74oImDxz2F0"
      },
      "source": [
        "# 検証③ Worker(サブプロセス)に同じseedを設定するとどうなるのか\n",
        "→ マルチプロセスで同じシードが設定されると、同じ乱数が取り出され、同じエポック内で、同じデータ変換がなされる"
      ]
    },
    {
      "cell_type": "markdown",
      "metadata": {
        "id": "4tTaZvZV29di"
      },
      "source": [
        "## CIFAR10のダウンロード"
      ]
    },
    {
      "cell_type": "code",
      "execution_count": 8,
      "metadata": {
        "colab": {
          "base_uri": "https://localhost:8080/"
        },
        "id": "r9Ra3mJdPfxh",
        "outputId": "a11ca90d-e7b1-4c79-8dbd-726db1bbb59e"
      },
      "outputs": [
        {
          "name": "stdout",
          "output_type": "stream",
          "text": [
            "Loaded CIFAR10 test split.\n"
          ]
        }
      ],
      "source": [
        "# メインプロセスのシードを固定\n",
        "seed_everything(SEED)\n",
        "\n",
        "# CIFAR‑10 をダウンロード\n",
        "base_ds = torchvision.datasets.CIFAR10(\n",
        "        root=\"./data\", download=True, train=False\n",
        "    )\n",
        "print(\"Loaded CIFAR10 test split.\")"
      ]
    },
    {
      "cell_type": "markdown",
      "metadata": {
        "id": "Ec4HRkd1221a"
      },
      "source": [
        "## データセットクラスの定義"
      ]
    },
    {
      "cell_type": "code",
      "execution_count": 9,
      "metadata": {
        "id": "Dt0LsdPk2wV9"
      },
      "outputs": [],
      "source": [
        "class AugDataset(Dataset):\n",
        "    def __init__(self, base, alb_aug):\n",
        "        self.base = base\n",
        "        self.alb_aug = alb_aug\n",
        "\n",
        "    def __len__(self):\n",
        "        # データセットの長さを2としておく\n",
        "        return 2\n",
        "\n",
        "    def __getitem__(self, idx):\n",
        "        img_np, _ = self.base[idx]\n",
        "\n",
        "        worker_info = get_worker_info()\n",
        "        worker_id = worker_info.id\n",
        "        seed = torch.initial_seed()\n",
        "\n",
        "        #PIL.Image -> ndarray変換\n",
        "        if not isinstance(img_np, np.ndarray):\n",
        "            img_np = np.array(img_np)\n",
        "        out = alb_aug(image=img_np)\n",
        "        aug_np = out[\"image\"]\n",
        "\n",
        "        # 1) Python random\n",
        "        peek_py = random.random() # 適当な乱数生成\n",
        "\n",
        "        # 2) NumPy\n",
        "        peek_np = np.random.randint(0, 2**31 - 1, dtype=np.int64)  # 適当な乱数生成\n",
        "\n",
        "        # 3) PyTorch CPU\n",
        "        peek_cpu = torch.empty((), dtype=torch.int64).random_().item()\n",
        "        return to_tensor(aug_np), worker_id, seed, peek_py, peek_np, peek_cpu"
      ]
    },
    {
      "cell_type": "markdown",
      "metadata": {
        "id": "mMK2n03c33TT"
      },
      "source": [
        "### Workerに同じシードを設定し、データ拡張を実施、可視化\n",
        "→異なるWorkerに同じシード値を設定すると、同じデータ拡張が実施される"
      ]
    },
    {
      "cell_type": "code",
      "execution_count": 10,
      "metadata": {
        "colab": {
          "base_uri": "https://localhost:8080/",
          "height": 518
        },
        "id": "ppfq4V8y17b3",
        "outputId": "471f234a-9478-4454-8064-f2253065d66f"
      },
      "outputs": [
        {
          "name": "stdout",
          "output_type": "stream",
          "text": [
            "[seed_worker] Set seed=42 for all workers.\n",
            "--------------------Worker_ID:0--------------------\n",
            "設定されているSeed:42\n",
            "Pythonで取り出した乱数:0.6394267984578837\n",
            "Numpyで取り出した乱数:1608637542\n",
            "Pytorchで取り出した乱数:6909045637428952499\n",
            "--------------------Worker_ID:1--------------------\n",
            "設定されているSeed:42\n",
            "Pythonで取り出した乱数:0.6394267984578837\n",
            "Numpyで取り出した乱数:1608637542\n",
            "Pytorchで取り出した乱数:6909045637428952499\n"
          ]
        },
        {
          "data": {
            "image/png": "[encoded data removed]",
            "text/plain": [
              "<Figure size 600x300 with 2 Axes>"
            ]
          },
          "metadata": {},
          "output_type": "display_data"
        }
      ],
      "source": [
        "# ワーカーにseedを設定するための関数\n",
        "def seed_worker(worker_id):\n",
        "    seed_everything(SEED)\n",
        "    if worker_id == 0:\n",
        "        print(f\"[seed_worker] Set seed={SEED} for all workers.\")\n",
        "\n",
        "# Albumentations ‑ Cutout (CoarseDropout) を必ず適用 (p=1)\n",
        "alb_aug = A.Compose(\n",
        "    [\n",
        "      A.CoarseDropout(\n",
        "          num_holes_range=(1, 8),\n",
        "          hole_height_range=(8, 16),\n",
        "          hole_width_range=(8, 16),\n",
        "          fill=0,\n",
        "          p=1.0\n",
        "      ),\n",
        "    ]\n",
        ")\n",
        "\n",
        "\n",
        "# 全ワーカーに同一のseedを設定する\n",
        "loader = DataLoader(\n",
        "    AugDataset(base_ds, alb_aug),\n",
        "    batch_size=1,\n",
        "    num_workers=2,\n",
        "    shuffle=False,\n",
        "    worker_init_fn=seed_worker,\n",
        ")\n",
        "\n",
        "\n",
        "# 1バッチだけ取得(データローダーの末尾までが1エポック)\n",
        "for i, (batch_imgs, worker_id, seed, py_peek, np_peek, torch_peek) in enumerate(loader):\n",
        "\n",
        "    print(f\"--------------------Worker_ID:{worker_id[0]}--------------------\")\n",
        "    print(f\"設定されているSeed:{seed[0]}\")\n",
        "    print(f\"Pythonで取り出した乱数:{py_peek[0]}\")\n",
        "    print(f\"Numpyで取り出した乱数:{np_peek[0]}\")\n",
        "    print(f\"Pytorchで取り出した乱数:{torch_peek[0]}\")\n",
        "\n",
        "    if i == 0:\n",
        "      batch_imgs_0 = batch_imgs[0] #Worker_id = 0 (1イテレーション目)\n",
        "    else:\n",
        "      batch_imgs_1 = batch_imgs[0] #Worker_id = 1 (2イテレーション目)\n",
        "\n",
        "\n",
        "# 同じ場所にCutout が入っていることを確認\n",
        "img1 = (batch_imgs_0.permute(1, 2, 0).numpy() * 255).astype(np.uint8)\n",
        "img2 = (batch_imgs_1.permute(1, 2, 0).numpy() * 255).astype(np.uint8)\n",
        "plt.figure(figsize=(6, 3))\n",
        "plt.subplot(1, 2, 1)\n",
        "plt.imshow(img1)\n",
        "plt.title(\"Worker ID:0から出力された画像\")\n",
        "plt.axis(\"off\")\n",
        "\n",
        "plt.subplot(1, 2, 2)\n",
        "plt.imshow(img2)\n",
        "plt.title(\"Worker ID:1から出力された画像\")\n",
        "plt.axis(\"off\")\n",
        "\n",
        "plt.suptitle(\"Identical Cutout across workers (seed=1234)\")\n",
        "plt.tight_layout()\n",
        "plt.show()\n"
      ]
    },
    {
      "cell_type": "code",
      "execution_count": null,
      "metadata": {
        "id": "GukcK8HO4Atl"
      },
      "outputs": [],
      "source": []
    }
  ],
  "metadata": {
    "colab": {
      "provenance": []
    },
    "kernelspec": {
      "display_name": "Python 3",
      "name": "python3"
    },
    "language_info": {
      "name": "python"
    }
  },
  "nbformat": 4,
  "nbformat_minor": 0
}
